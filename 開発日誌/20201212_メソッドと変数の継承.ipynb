{
 "metadata": {
  "language_info": {
   "codemirror_mode": {
    "name": "ipython",
    "version": 3
   },
   "file_extension": ".py",
   "mimetype": "text/x-python",
   "name": "python",
   "nbconvert_exporter": "python",
   "pygments_lexer": "ipython3",
   "version": "3.7.9-final"
  },
  "orig_nbformat": 2,
  "kernelspec": {
   "name": "python3",
   "display_name": "Python 3",
   "language": "python"
  }
 },
 "nbformat": 4,
 "nbformat_minor": 2,
 "cells": [
  {
   "source": [
    "## やりたいこと\n",
    "継承時のメソッドおよび変数の挙動を再確認"
   ],
   "cell_type": "markdown",
   "metadata": {}
  },
  {
   "source": [
    "---\n",
    "何も考えずに継承してみる  \n",
    "※`method_1`は`Class_1`にのみ定義されており、`Class_2`インスタンスから呼び出せれば継承成功"
   ],
   "cell_type": "markdown",
   "metadata": {}
  },
  {
   "cell_type": "code",
   "execution_count": 10,
   "metadata": {},
   "outputs": [
    {
     "output_type": "error",
     "ename": "AttributeError",
     "evalue": "'Class_2' object has no attribute 'value_1'",
     "traceback": [
      "\u001b[1;31m---------------------------------------------------------------------------\u001b[0m",
      "\u001b[1;31mAttributeError\u001b[0m                            Traceback (most recent call last)",
      "\u001b[1;32m<ipython-input-10-01bffe3ab830>\u001b[0m in \u001b[0;36m<module>\u001b[1;34m\u001b[0m\n\u001b[0;32m     22\u001b[0m \u001b[1;33m\u001b[0m\u001b[0m\n\u001b[0;32m     23\u001b[0m \u001b[0mcl\u001b[0m \u001b[1;33m=\u001b[0m \u001b[0mClass_2\u001b[0m\u001b[1;33m(\u001b[0m\u001b[1;33m)\u001b[0m\u001b[1;33m\u001b[0m\u001b[1;33m\u001b[0m\u001b[0m\n\u001b[1;32m---> 24\u001b[1;33m \u001b[0mcl\u001b[0m\u001b[1;33m.\u001b[0m\u001b[0mmethod_1\u001b[0m\u001b[1;33m(\u001b[0m\u001b[1;33m)\u001b[0m\u001b[1;33m\u001b[0m\u001b[1;33m\u001b[0m\u001b[0m\n\u001b[0m\u001b[0;32m     25\u001b[0m \u001b[0mcl\u001b[0m\u001b[1;33m.\u001b[0m\u001b[0mmethod_2\u001b[0m\u001b[1;33m(\u001b[0m\u001b[1;33m)\u001b[0m\u001b[1;33m\u001b[0m\u001b[1;33m\u001b[0m\u001b[0m\n\u001b[0;32m     26\u001b[0m \u001b[0mcl\u001b[0m\u001b[1;33m.\u001b[0m\u001b[0mmethod_3\u001b[0m\u001b[1;33m(\u001b[0m\u001b[1;33m)\u001b[0m\u001b[1;33m\u001b[0m\u001b[1;33m\u001b[0m\u001b[0m\n",
      "\u001b[1;32m<ipython-input-10-01bffe3ab830>\u001b[0m in \u001b[0;36mmethod_1\u001b[1;34m(self)\u001b[0m\n\u001b[0;32m      8\u001b[0m \u001b[1;33m\u001b[0m\u001b[0m\n\u001b[0;32m      9\u001b[0m     \u001b[1;32mdef\u001b[0m \u001b[0mmethod_1\u001b[0m\u001b[1;33m(\u001b[0m\u001b[0mself\u001b[0m\u001b[1;33m)\u001b[0m\u001b[1;33m:\u001b[0m\u001b[1;33m\u001b[0m\u001b[1;33m\u001b[0m\u001b[0m\n\u001b[1;32m---> 10\u001b[1;33m         \u001b[0mprint\u001b[0m\u001b[1;33m(\u001b[0m\u001b[1;34m\"value_1 =\"\u001b[0m\u001b[1;33m,\u001b[0m\u001b[0mself\u001b[0m\u001b[1;33m.\u001b[0m\u001b[0mvalue_1\u001b[0m\u001b[1;33m)\u001b[0m\u001b[1;33m\u001b[0m\u001b[1;33m\u001b[0m\u001b[0m\n\u001b[0m\u001b[0;32m     11\u001b[0m \u001b[1;33m\u001b[0m\u001b[0m\n\u001b[0;32m     12\u001b[0m \u001b[1;32mclass\u001b[0m \u001b[0mClass_2\u001b[0m\u001b[1;33m(\u001b[0m\u001b[0mClass_1\u001b[0m\u001b[1;33m)\u001b[0m\u001b[1;33m:\u001b[0m\u001b[1;33m\u001b[0m\u001b[1;33m\u001b[0m\u001b[0m\n",
      "\u001b[1;31mAttributeError\u001b[0m: 'Class_2' object has no attribute 'value_1'"
     ]
    }
   ],
   "source": [
    "value_1 = 1\n",
    "value_2 = 2\n",
    "\n",
    "class Class_1:\n",
    "    def __self__(self):\n",
    "        self.value_1 = value_1\n",
    "        self.value_2 = vakue_2\n",
    "\n",
    "    def method_1(self):\n",
    "        print(\"value_1 =\",self.value_1)\n",
    "\n",
    "class Class_2(Class_1):\n",
    "    def __init__(self):\n",
    "        pass\n",
    "\n",
    "    def method_2(self):\n",
    "        print(\"value_2 =\",self.value_2 )\n",
    "\n",
    "    \n",
    "    def method_3(self):\n",
    "        print(\"value_3 =\",self.value_1 + self.value_2)\n",
    "\n",
    "cl = Class_2()\n",
    "cl.method_1()\n",
    "cl.method_2()\n",
    "cl.method_3()"
   ]
  },
  {
   "source": [
    "エラーになった。つまり‘Class_1‘のインスタンス変数は継承されない  \n",
    "(インスタンス変数はそのインスタンスの中でしか共有されない)"
   ],
   "cell_type": "markdown",
   "metadata": {}
  },
  {
   "source": [
    "---\n",
    "`Class_2`の中で'Class_1'と同じインスタンス変数を宣言する"
   ],
   "cell_type": "markdown",
   "metadata": {}
  },
  {
   "cell_type": "code",
   "execution_count": 11,
   "metadata": {},
   "outputs": [
    {
     "output_type": "stream",
     "name": "stdout",
     "text": [
      "value_1 = 1\nvalue_2 = 2\nvalue_3 = 3\n"
     ]
    }
   ],
   "source": [
    "class Class_1:\n",
    "    def __self__(self):\n",
    "        self.value_1 = value_1\n",
    "        self.value_2 = vakue_2\n",
    "\n",
    "    def method_1(self):\n",
    "        print(\"value_1 =\",self.value_1)\n",
    "\n",
    "class Class_2(Class_1):\n",
    "    def __init__(self):\n",
    "        self.value_1 = value_1\n",
    "        self.value_2 = value_2\n",
    "\n",
    "    def method_2(self):\n",
    "        print(\"value_2 =\",self.value_2 )\n",
    "\n",
    "    \n",
    "    def method_3(self):\n",
    "        print(\"value_3 =\",self.value_1 + self.value_2)\n",
    "\n",
    "cl = Class_2()\n",
    "cl.method_1()\n",
    "cl.method_2()\n",
    "cl.method_3()"
   ]
  },
  {
   "source": [
    "通るが、あまり賢いやり方ではない(クラスごとにいちいち変数宣言が必要)"
   ],
   "cell_type": "markdown",
   "metadata": {}
  },
  {
   "source": [
    "---\n",
    "`self`をクラス名に変えてみる"
   ],
   "cell_type": "markdown",
   "metadata": {}
  },
  {
   "source": [
    "class Class_1:\n",
    "    def __self__(self):\n",
    "        self.value_1 = value_1\n",
    "        self.value_2 = vakue_2\n",
    "\n",
    "    def method_1(self):\n",
    "        print(\"value_1 =\",self.value_1)\n",
    "\n",
    "class Class_2(Class_1):\n",
    "    def __init__(self):\n",
    "        self.value_1 = Class_1.value_1\n",
    "        self.value_2 = Class_1.value_2\n",
    "\n",
    "    def method_2(self):\n",
    "        print(\"value_2 =\",self.value_2 )\n",
    "\n",
    "    \n",
    "    def method_3(self):\n",
    "        print(\"value_3 =\",self.value_1 + self.value_2)\n",
    "\n",
    "cl = Class_2()\n",
    "cl.method_1()\n",
    "cl.method_2()\n",
    "cl.method_3()"
   ],
   "cell_type": "code",
   "metadata": {},
   "execution_count": 12,
   "outputs": [
    {
     "output_type": "error",
     "ename": "AttributeError",
     "evalue": "type object 'Class_1' has no attribute 'value_1'",
     "traceback": [
      "\u001b[1;31m---------------------------------------------------------------------------\u001b[0m",
      "\u001b[1;31mAttributeError\u001b[0m                            Traceback (most recent call last)",
      "\u001b[1;32m<ipython-input-12-1578aec09c1a>\u001b[0m in \u001b[0;36m<module>\u001b[1;34m\u001b[0m\n\u001b[0;32m     19\u001b[0m         \u001b[0mprint\u001b[0m\u001b[1;33m(\u001b[0m\u001b[1;34m\"value_3 =\"\u001b[0m\u001b[1;33m,\u001b[0m\u001b[0mself\u001b[0m\u001b[1;33m.\u001b[0m\u001b[0mvalue_1\u001b[0m \u001b[1;33m+\u001b[0m \u001b[0mself\u001b[0m\u001b[1;33m.\u001b[0m\u001b[0mvalue_2\u001b[0m\u001b[1;33m)\u001b[0m\u001b[1;33m\u001b[0m\u001b[1;33m\u001b[0m\u001b[0m\n\u001b[0;32m     20\u001b[0m \u001b[1;33m\u001b[0m\u001b[0m\n\u001b[1;32m---> 21\u001b[1;33m \u001b[0mcl\u001b[0m \u001b[1;33m=\u001b[0m \u001b[0mClass_2\u001b[0m\u001b[1;33m(\u001b[0m\u001b[1;33m)\u001b[0m\u001b[1;33m\u001b[0m\u001b[1;33m\u001b[0m\u001b[0m\n\u001b[0m\u001b[0;32m     22\u001b[0m \u001b[0mcl\u001b[0m\u001b[1;33m.\u001b[0m\u001b[0mmethod_1\u001b[0m\u001b[1;33m(\u001b[0m\u001b[1;33m)\u001b[0m\u001b[1;33m\u001b[0m\u001b[1;33m\u001b[0m\u001b[0m\n\u001b[0;32m     23\u001b[0m \u001b[0mcl\u001b[0m\u001b[1;33m.\u001b[0m\u001b[0mmethod_2\u001b[0m\u001b[1;33m(\u001b[0m\u001b[1;33m)\u001b[0m\u001b[1;33m\u001b[0m\u001b[1;33m\u001b[0m\u001b[0m\n",
      "\u001b[1;32m<ipython-input-12-1578aec09c1a>\u001b[0m in \u001b[0;36m__init__\u001b[1;34m(self)\u001b[0m\n\u001b[0;32m      9\u001b[0m \u001b[1;32mclass\u001b[0m \u001b[0mClass_2\u001b[0m\u001b[1;33m(\u001b[0m\u001b[0mClass_1\u001b[0m\u001b[1;33m)\u001b[0m\u001b[1;33m:\u001b[0m\u001b[1;33m\u001b[0m\u001b[1;33m\u001b[0m\u001b[0m\n\u001b[0;32m     10\u001b[0m     \u001b[1;32mdef\u001b[0m \u001b[0m__init__\u001b[0m\u001b[1;33m(\u001b[0m\u001b[0mself\u001b[0m\u001b[1;33m)\u001b[0m\u001b[1;33m:\u001b[0m\u001b[1;33m\u001b[0m\u001b[1;33m\u001b[0m\u001b[0m\n\u001b[1;32m---> 11\u001b[1;33m         \u001b[0mself\u001b[0m\u001b[1;33m.\u001b[0m\u001b[0mvalue_1\u001b[0m \u001b[1;33m=\u001b[0m \u001b[0mClass_1\u001b[0m\u001b[1;33m.\u001b[0m\u001b[0mvalue_1\u001b[0m\u001b[1;33m\u001b[0m\u001b[1;33m\u001b[0m\u001b[0m\n\u001b[0m\u001b[0;32m     12\u001b[0m         \u001b[0mself\u001b[0m\u001b[1;33m.\u001b[0m\u001b[0mvalue_2\u001b[0m \u001b[1;33m=\u001b[0m \u001b[0mClass_1\u001b[0m\u001b[1;33m.\u001b[0m\u001b[0mvalue_2\u001b[0m\u001b[1;33m\u001b[0m\u001b[1;33m\u001b[0m\u001b[0m\n\u001b[0;32m     13\u001b[0m \u001b[1;33m\u001b[0m\u001b[0m\n",
      "\u001b[1;31mAttributeError\u001b[0m: type object 'Class_1' has no attribute 'value_1'"
     ]
    }
   ]
  },
  {
   "source": [
    "通らない。`Class_1`の変数はインスタンス変数なので、外部と共有できない"
   ],
   "cell_type": "markdown",
   "metadata": {}
  },
  {
   "source": [
    "---\n",
    "`Class_1`の変数をクラス変数にしてみる"
   ],
   "cell_type": "markdown",
   "metadata": {}
  },
  {
   "cell_type": "code",
   "execution_count": 40,
   "metadata": {},
   "outputs": [
    {
     "output_type": "stream",
     "name": "stdout",
     "text": [
      "value_1 = 1\nvalue_2 = 2\nvalue_3 = 3\n"
     ]
    }
   ],
   "source": [
    "class Class_1:\n",
    "    value_1 = value_1\n",
    "    value_2 = value_2\n",
    "\n",
    "    def method_1(self):\n",
    "        print(\"value_1 =\",self.value_1) #クラス変数も呼び出しはselfをつける\n",
    "\n",
    "class Class_2(Class_1):\n",
    "    def __init__(self):\n",
    "        self.value_1 = Class_1.value_1  #Class_1のクラス変数をClass_2のインスタンス変数に置換\n",
    "        self.value_2 = Class_2.value_2\n",
    "\n",
    "    def method_2(self):\n",
    "        print(\"value_2 =\",self.value_2 )    #ここで呼んでいるのはClass_2のインスタンス変数\n",
    "\n",
    "    \n",
    "    def method_3(self):\n",
    "        print(\"value_3 =\",self.value_1 + self.value_2)\n",
    "\n",
    "cl = Class_2()\n",
    "cl.method_1()\n",
    "cl.method_2()\n",
    "cl.method_3()"
   ]
  },
  {
   "source": [
    "`class_1`の変数がクラス変数なら`Class_2`と共有できる (この場合`Class_2`の中ではインスタンス変数として処理される)  \n",
    "ただしこの場合両方のクラスで変数宣言しているため二度手間"
   ],
   "cell_type": "markdown",
   "metadata": {}
  },
  {
   "source": [
    "---\n",
    "`Class_2`の変数もクラス変数にしてみる"
   ],
   "cell_type": "markdown",
   "metadata": {}
  },
  {
   "cell_type": "code",
   "execution_count": 41,
   "metadata": {},
   "outputs": [
    {
     "output_type": "stream",
     "name": "stdout",
     "text": [
      "value_1 = 1\nvalue_2 = 2\nvalue_3 = 3\n"
     ]
    }
   ],
   "source": [
    "class Class_1:\n",
    "    value_1 = value_1\n",
    "    value_2 = value_2\n",
    "\n",
    "    def method_1(self):\n",
    "        print(\"value_1 =\",self.value_1)\n",
    "\n",
    "class Class_2(Class_1):\n",
    "    value_1 = Class_1.value_1   #Class_1のクラス変数をClass_2のクラス変数として再宣言\n",
    "    value_2 = Class_2.value_2\n",
    "\n",
    "    def method_2(self):\n",
    "        print(\"value_2 =\",self.value_2 )\n",
    "\n",
    "    \n",
    "    def method_3(self):\n",
    "        print(\"value_3 =\",self.value_1 + self.value_2)\n",
    "\n",
    "cl = Class_2()\n",
    "cl.method_1()\n",
    "cl.method_2()\n",
    "cl.method_3()"
   ]
  },
  {
   "source": [
    "これも通るが、`Class_2`の変数宣言が二度手間なことには変わらない"
   ],
   "cell_type": "markdown",
   "metadata": {}
  },
  {
   "source": [
    "---\n",
    "`Class_2`の変数宣言を省略してみる"
   ],
   "cell_type": "markdown",
   "metadata": {}
  },
  {
   "cell_type": "code",
   "execution_count": 39,
   "metadata": {},
   "outputs": [
    {
     "output_type": "stream",
     "name": "stdout",
     "text": [
      "value_1 = 1\nvalue_2 = 2\nvalue_3 = 3\n"
     ]
    }
   ],
   "source": [
    "class Class_1:\n",
    "    value_1 = value_1\n",
    "    value_2 = value_2\n",
    "\n",
    "    def method_1(self):\n",
    "        print(\"value_1 =\",self.value_1)\n",
    "\n",
    "class Class_2(Class_1):\n",
    "\n",
    "    def method_2(self):\n",
    "        print(\"value_2 =\",Class_1.value_2)  #Class_1の変数を直接呼び出す\n",
    "\n",
    "    \n",
    "    def method_3(self):\n",
    "        print(\"value_3 =\",Class_1.value_1 + Class_1.value_2)\n",
    "\n",
    "cl = Class_2()\n",
    "cl.method_1()\n",
    "cl.method_2()\n",
    "cl.method_3()"
   ]
  },
  {
   "source": [
    "子クラスにコンストラクタを持たない場合、親クラスのコンストラクタが呼び出される。  \n",
    "このコードだと、子クラスの構文が「どこの変数を参照しているか」が明確になる"
   ],
   "cell_type": "markdown",
   "metadata": {}
  },
  {
   "source": [
    "---\n",
    "子クラスで継承したクラス変数と自己宣言したインスタンス変数を混在させてみる"
   ],
   "cell_type": "markdown",
   "metadata": {}
  },
  {
   "cell_type": "code",
   "execution_count": 42,
   "metadata": {},
   "outputs": [
    {
     "output_type": "stream",
     "name": "stdout",
     "text": [
      "value_1 = 1\nvalue_2 = 2\nvalue_3 = 3\n"
     ]
    }
   ],
   "source": [
    "class Class_1:\n",
    "    value_1 = value_1   #継承可能なクラス変数\n",
    "\n",
    "    def method_1(self):\n",
    "        print(\"value_1 =\",self.value_1)\n",
    "\n",
    "class Class_2(Class_1):\n",
    "    def __init__(self):\n",
    "        self.value_2 = value_2  #Class2の中でのみ使うインスタンス変数\n",
    "\n",
    "    def method_2(self):\n",
    "        print(\"value_2 =\",self.value_2)\n",
    "\n",
    "    def method_3(self):\n",
    "        print(\"value_3 =\",Class_1.value_1 + self.value_2)   #value_1はClass_1のクラス変数、value_2はClass_2のインスタンス変数\n",
    "\n",
    "cl = Class_2()\n",
    "cl.method_1()\n",
    "cl.method_2()\n",
    "cl.method_3()"
   ]
  },
  {
   "source": [
    "親クラスのコンストラクタと競合しなければ。子クラスのコンストラクタのオーバーライドはされない  \n",
    "このコーディングなら、変数宣言が最小限になるうえそれぞれの処理系でどこの変数を参照しているかが明確になる  "
   ],
   "cell_type": "markdown",
   "metadata": {}
  },
  {
   "source": [
    "---\n",
    "## わかったこと\n",
    "子クラスで親クラスを活性化させた時点で、親クラスの__init__()メソッドを自動的に呼んでくれる  \n",
    "また、子クラスから親クラスのインスタンスメソッドを直接呼び出せる→super()祭りは不要になった\n",
    "\n",
    "クラス変数とインスタンス変数については、おさらいになるが…\n",
    "- クラス変数(クラス宣言直下で宣言する変数) は他のクラスからも参照できる\n",
    "- インスタンス変数(コンストラクタで宣言する変数) は他のクラスから参照はできない\n",
    "- 親クラスのクラス変数を参照して、子クラスで変数宣言なしで直接処理できる\n",
    "\n",
    "結局\n",
    "- 「子クラスに継承したい変数はクラス変数で宣言」\n",
    "- 「そのクラスの中でしか使わない変数はインスタンス変数で宣言」\n",
    "ということになる。\n",
    "\n",
    "そのうえでメソッドの記述時、どこの変数を参照しているかを明記すればコードの可読性も上がる。  \n",
    "→継承している変数はクラス名、インスタンス変数は`self`"
   ],
   "cell_type": "markdown",
   "metadata": {}
  },
  {
   "cell_type": "code",
   "execution_count": null,
   "metadata": {},
   "outputs": [],
   "source": []
  }
 ]
}