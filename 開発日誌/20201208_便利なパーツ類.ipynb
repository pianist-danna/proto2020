{
 "metadata": {
  "language_info": {
   "codemirror_mode": {
    "name": "ipython",
    "version": 3
   },
   "file_extension": ".py",
   "mimetype": "text/x-python",
   "name": "python",
   "nbconvert_exporter": "python",
   "pygments_lexer": "ipython3",
   "version": "3.7.9-final"
  },
  "orig_nbformat": 2,
  "kernelspec": {
   "name": "python3",
   "display_name": "Python 3"
  }
 },
 "nbformat": 4,
 "nbformat_minor": 2,
 "cells": [
  {
   "cell_type": "markdown",
   "metadata": {},
   "source": [
    "表示させたい文字列の前に`\\r`を入れて行を戻し、末尾に空白文字を入れる(改行を回避する)ことによってJupyterでも表示更新をかけることができる"
   ]
  },
  {
   "cell_type": "code",
   "execution_count": 1,
   "metadata": {},
   "outputs": [
    {
     "output_type": "stream",
     "name": "stdout",
     "text": [
      "Wating for recording to start... 0"
     ]
    }
   ],
   "source": [
    "#インラインで減るカウンター\n",
    "\n",
    "import time\n",
    "wait_t = 10\n",
    "for i in range(wait_t):\n",
    "    if i < wait_t:\n",
    "        print(\"\\rWating for recording to start...\" , wait_t-i ,end = \"\")\n",
    "        time.sleep(1)\n",
    "    print(\"\\rWating for recording to start...\",\"0\",end = \"\")"
   ]
  },
  {
   "cell_type": "code",
   "execution_count": 2,
   "metadata": {},
   "outputs": [
    {
     "output_type": "stream",
     "name": "stdout",
     "text": [
      "[#################################################]"
     ]
    }
   ],
   "source": [
    "#簡易的なプログレスバー\n",
    "import time\n",
    "for i in range(50):\n",
    "    print(\"\\r[\" + \"#\"*i + \"]\",end = \"\")\n",
    "    time.sleep(0.1)"
   ]
  },
  {
   "cell_type": "code",
   "execution_count": 3,
   "metadata": {},
   "outputs": [
    {
     "output_type": "stream",
     "name": "stdout",
     "text": [
      " \\"
     ]
    }
   ],
   "source": [
    "#スピナー\n",
    "import time\n",
    "\n",
    "def gen_spinner():\n",
    "    yield \"|\"\n",
    "    yield \"/\"\n",
    "    yield \"-\"\n",
    "    yield \"\\\\\"\n",
    "\n",
    "for i in range(10):\n",
    "    for spinner in gen_spinner():\n",
    "        time.sleep(0.2)\n",
    "        print(\"\\r\" , spinner,end = \"\")"
   ]
  }
 ]
}