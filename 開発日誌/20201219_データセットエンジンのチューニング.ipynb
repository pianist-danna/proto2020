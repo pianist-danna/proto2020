{
 "metadata": {
  "language_info": {
   "codemirror_mode": {
    "name": "ipython",
    "version": 3
   },
   "file_extension": ".py",
   "mimetype": "text/x-python",
   "name": "python",
   "nbconvert_exporter": "python",
   "pygments_lexer": "ipython3",
   "version": "3.7.9-final"
  },
  "orig_nbformat": 2,
  "kernelspec": {
   "name": "python3",
   "display_name": "Python 3",
   "language": "python"
  }
 },
 "nbformat": 4,
 "nbformat_minor": 2,
 "cells": [
  {
   "source": [
    "データセット処理系の最適化検討"
   ],
   "cell_type": "markdown",
   "metadata": {}
  },
  {
   "cell_type": "code",
   "execution_count": 20,
   "metadata": {},
   "outputs": [],
   "source": [
    "import re\n",
    "import os\n",
    "import wave\n",
    "import copy\n",
    "import random\n",
    "import numpy as np\n",
    "import numba\n",
    "import scipy\n",
    "import sklearn\n",
    "\n",
    "from scipy.signal import spectrogram\n",
    "from sklearn.preprocessing import minmax_scale"
   ]
  },
  {
   "cell_type": "code",
   "execution_count": 132,
   "metadata": {},
   "outputs": [],
   "source": [
    "class Core_DS:\n",
    "    def __init__(self):\n",
    "        self.data_dir = \"C:\\\\Users\\\\amane\\\\OneDrive\\\\python\\\\proto2020\\\\bin\\\\proto2020_093\\\\data\"\n",
    "        self.save_dir = \"C:\\\\Users\\\\amane\\\\OneDrive\\\\python\\\\proto2020\\\\bin\\\\proto2020_093\\\\data\\\\waves\"\n",
    "        self.br = 8\n",
    "        self.sr = 22050\n",
    "        self.aug_amt = 512\n",
    "        self.chunk = 1024\n",
    "\n",
    "\n",
    "    \"\"\"対象フォルダ内のWaveファイルの一覧を取得\"\"\"\n",
    "    def elem_wav_search(self,dir):\n",
    "        x = []\n",
    "\n",
    "        for i in os.listdir(dir):\n",
    "            search_index = re.search(\".wav\",i)\n",
    "            if search_index:\n",
    "                x.append(i)\n",
    "        print (\"Files to process:{0}\".format(x))\n",
    "\n",
    "        return x\n",
    "\n",
    "    \"\"\"\"\"オーディオファイルの読み込み wave_readオブジェクトを返す\"\"\"\n",
    "    def elem_load_wav(self,dir,file):\n",
    "        x = np.arange(0)\n",
    "\n",
    "        #バイナリを読み出す\n",
    "        x = wave.open(\n",
    "            os.path.join(dir,file),\"rb\").readframes(-1)\n",
    "\n",
    "        return x\n",
    "    \n",
    "    \"\"\"バイナリデータからnumpy配列に変換しノーマライズ/スケーリング\"\"\"\n",
    "    @numba.jit\n",
    "    def elem_BtoNP_w_norm(self,wr_obj):\n",
    "        x = np.arange(0)\n",
    "        x = minmax_scale(\n",
    "            np.frombuffer(wr_obj,dtype = \"int\" + str(self.br *2 )),\n",
    "            feature_range=(-1,1)\n",
    "        )\n",
    "\n",
    "        return x\n",
    "\n",
    "    \"\"\"ノイズの付与\"\"\"\n",
    "    @numba.jit\n",
    "    def elem_add_noize(self,w_array):\n",
    "        x = np.arange(0)\n",
    "        x = w_array + np.random.randn(len(w_array))*random.uniform(0,0.001)\n",
    "        return x\n",
    "\n",
    "    \"\"\"スペクトログラムの取得\"\"\"\n",
    "    @numba.jit\n",
    "    def elem_get_spg(self,noized_array):\n",
    "        noized_array = noized_array.astype(np.float32)    #float32に変換\n",
    "        spg = np.arange(0)\n",
    "        freq,tme,spg = spectrogram(\n",
    "            noized_array,\n",
    "            fs = self.sr,\n",
    "            window = np.hamming(self.chunk),\n",
    "            nfft = self.chunk,\n",
    "            scaling = \"spectrum\",\n",
    "            mode = \"magnitude\"\n",
    "        )\n",
    "        return freq,tme,spg\n",
    "\n",
    "    \"\"\"単一ファイルに対するAugmentation処理\"\"\"\n",
    "    @numba.jit\n",
    "    def elem_aug(self,target_ary):\n",
    "        for i in range(self.aug_amt):\n",
    "            #ノイズの付与\n",
    "            wf = self.elem_add_noize(target_ary)\n",
    "\n",
    "            #スペクトログラムの取得\n",
    "            freq,tme,spg = self.elem_get_spg(wf)\n",
    "            spg = spg.reshape(1,len(freq),len(tme))    #3次元配列に変換\n",
    "\n",
    "            #水増しされたデータを積み上げる\n",
    "            if i == 0:\n",
    "                x= copy.deepcopy(spg)\n",
    "            else:\n",
    "                x= np.vstack((x,spg))\n",
    "        \n",
    "        return freq,tme,x,i\n",
    "\n",
    "    \"\"\"データセットの作成\"\"\"\n",
    "    @numba.jit\n",
    "    def elem_make_ds(self,dir):\n",
    "        wave_list = self.elem_wav_search(dir) #ウェーブリストを読み込む\n",
    "        counter = 0     #カウンター初期化\n",
    "\n",
    "        for i in wave_list:\n",
    "            w_file = self.elem_BtoNP_w_norm(\n",
    "                self.elem_load_wav(dir,i)\n",
    "                )       #波形を読み込み、ノーマライズ/スケーリング\n",
    "\n",
    "            freq,tme,auged_spg,count = self.elem_aug(w_file)    #Augmentation処理\n",
    "\n",
    "            if i == wave_list[0]:\n",
    "                x= copy.deepcopy(auged_spg)\n",
    "            else:\n",
    "                x= np.vstack((x,auged_spg))\n",
    "\n",
    "            counter = counter + (count+1 )  #カウンター\n",
    "            print(\"\\rAugmentation count = {}\".format(counter),end= \"\")\n",
    "\n",
    "        print(\"\\rFiles in\",dir,\"Augmentation done. \\\n",
    "            \\namounts =\",counter, \"\\ndtype =\",x.dtype)\n",
    "\n",
    "        np.random.shuffle(x)    #混ぜる\n",
    "\n",
    "        return freq,tme,x\n",
    "    \n",
    " "
   ]
  },
  {
   "cell_type": "code",
   "execution_count": 134,
   "metadata": {},
   "outputs": [
    {
     "output_type": "stream",
     "name": "stdout",
     "text": [
      "Files to process:['OK-1.wav', 'OK-2.wav', 'OK-3.wav']\n",
      "Files in C:\\Users\\amane\\OneDrive\\python\\proto2020\\bin\\proto2020_093\\data\\waves Augmentation done.             \n",
      "amounts = 1536 \n",
      "dtype = float32\n",
      "Wall time: 55.1 s\n"
     ]
    }
   ],
   "source": [
    "%%time\n",
    "ds = Core_DS()\n",
    "freq,time,x = ds.elem_make_ds(\"C:\\\\Users\\\\amane\\\\OneDrive\\\\python\\\\proto2020\\\\bin\\\\proto2020_093\\\\data\\\\waves\")"
   ]
  },
  {
   "source": [
    "---\n",
    "前の処理系の速度(事前に計測)"
   ],
   "cell_type": "markdown",
   "metadata": {}
  },
  {
   "cell_type": "code",
   "execution_count": 25,
   "metadata": {},
   "outputs": [
    {
     "output_type": "stream",
     "name": "stdout",
     "text": [
      "Files to process:['OK-1.wav', 'OK-2.wav', 'OK-3.wav']\n",
      "Files in C:\\Users\\amane\\OneDrive\\python\\proto2020\\bin\\proto2020_093\\data\\waves Augmentation done.             \n",
      "amounts = 1536 \n",
      "dtype = float32\n",
      "Wall time: 57.1 s\n"
     ]
    }
   ],
   "source": [
    "%%time\n",
    "ds = Core_DS()\n",
    "freq,time,x = ds.elem_make_ds(\"C:\\\\Users\\\\amane\\\\OneDrive\\\\python\\\\proto2020\\\\bin\\\\proto2020_093\\\\data\\\\waves\")"
   ]
  },
  {
   "source": [
    "## わかったこと\n",
    "‐ float64→float32への変換はスペクトログラム取得時点でやるのがパフォーマンス上有利"
   ],
   "cell_type": "markdown",
   "metadata": {}
  },
  {
   "cell_type": "code",
   "execution_count": null,
   "metadata": {},
   "outputs": [],
   "source": []
  }
 ]
}