{
 "metadata": {
  "language_info": {
   "codemirror_mode": {
    "name": "ipython",
    "version": 3
   },
   "file_extension": ".py",
   "mimetype": "text/x-python",
   "name": "python",
   "nbconvert_exporter": "python",
   "pygments_lexer": "ipython3",
   "version": "3.7.9-final"
  },
  "orig_nbformat": 2,
  "kernelspec": {
   "name": "python3",
   "display_name": "Python 3",
   "language": "python"
  }
 },
 "nbformat": 4,
 "nbformat_minor": 2,
 "cells": [
  {
   "source": [
    "## やりたいこと\n",
    "numpy配列の変数を.iniファイルに保存する  \n",
    "リストを経由する"
   ],
   "cell_type": "markdown",
   "metadata": {}
  },
  {
   "cell_type": "code",
   "execution_count": 71,
   "metadata": {},
   "outputs": [],
   "source": [
    "#ConfigparserでNumpy配列をセーブしたりロードしたりするテスト\n",
    "import os\n",
    "import configparser\n",
    "import json\n",
    "import numpy as np\n",
    "os.chdir(\"C:\\\\Users\\\\amane\\\\OneDrive\\\\python\\\\proto2020\")\n",
    "\n",
    "#配列を定義\n",
    "value = np.arange(5)\n",
    "\n",
    "class Config():\n",
    "    def __init__(self):\n",
    "        self.value = value\n",
    "        self.cfg = configparser.ConfigParser()\n",
    "\n",
    "    def save_ini(self):\n",
    "        value_l = self.value.tolist()   #リストに変換\n",
    "        x = self.cfg\n",
    "        x[\"General\"] = {\"value\": value_l }\n",
    "        with open(\"./config.ini\",\"w\") as cfgfile:\n",
    "            x.write(cfgfile)\n",
    "        print(\"saved.\")\n",
    "\n",
    "    def load_ini(self):\n",
    "        x = self.cfg\n",
    "        x.read(\"./config.ini\")\n",
    "        print(\"loaded.\")\n",
    "        self.value = np.array(json.loads(x.get(\"General\",\"value\")))\n",
    "\n",
    "        return self.value\n",
    "\n"
   ]
  },
  {
   "cell_type": "code",
   "execution_count": 72,
   "metadata": {},
   "outputs": [
    {
     "output_type": "stream",
     "name": "stdout",
     "text": [
      "saved.\n"
     ]
    }
   ],
   "source": [
    "config = Config()\n",
    "config.save_ini()"
   ]
  },
  {
   "source": [
    "リストで保存されている\n",
    "```ini:config.ini\n",
    "[General]\n",
    "value = [0, 1, 2, 3, 4]\n",
    "```"
   ],
   "cell_type": "markdown",
   "metadata": {}
  },
  {
   "source": [
    "一旦初期化 `value`を`None`にしておく"
   ],
   "cell_type": "markdown",
   "metadata": {}
  },
  {
   "cell_type": "code",
   "execution_count": 73,
   "metadata": {},
   "outputs": [],
   "source": [
    "del value,config\n",
    "value = None"
   ]
  },
  {
   "cell_type": "code",
   "execution_count": 74,
   "metadata": {},
   "outputs": [
    {
     "output_type": "stream",
     "name": "stdout",
     "text": [
      "loaded.\n"
     ]
    }
   ],
   "source": [
    "config = Config()\n",
    "value = config.load_ini()"
   ]
  },
  {
   "source": [
    "## わかったこと\n",
    "セーブ：`list`に変換して`configparser`で保存する  \n",
    "ロード：`configpasar`で読み出したのち、`json.loads`でリストに変換→`np.array`でNumpy配列に変換\n",
    "\n",
    "## 次にやること\n",
    "freqとtmeがiniファイルに保存できることがわかったので、`proto2020_093.py`へ実装する"
   ],
   "cell_type": "markdown",
   "metadata": {}
  },
  {
   "cell_type": "code",
   "execution_count": null,
   "metadata": {},
   "outputs": [],
   "source": []
  }
 ]
}