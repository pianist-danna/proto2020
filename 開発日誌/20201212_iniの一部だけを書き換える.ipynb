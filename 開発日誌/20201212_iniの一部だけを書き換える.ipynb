{
 "metadata": {
  "language_info": {
   "codemirror_mode": {
    "name": "ipython",
    "version": 3
   },
   "file_extension": ".py",
   "mimetype": "text/x-python",
   "name": "python",
   "nbconvert_exporter": "python",
   "pygments_lexer": "ipython3",
   "version": "3.7.9-final"
  },
  "orig_nbformat": 2,
  "kernelspec": {
   "name": "python3",
   "display_name": "Python 3",
   "language": "python"
  }
 },
 "nbformat": 4,
 "nbformat_minor": 2,
 "cells": [
  {
   "source": [
    "## やりたいこと\n",
    "iniファイルの一部の内容だけを書き換える"
   ],
   "cell_type": "markdown",
   "metadata": {}
  },
  {
   "cell_type": "code",
   "execution_count": 23,
   "metadata": {},
   "outputs": [],
   "source": [
    "#iniファイルの一部だけ書き換えるテスト\n",
    "import os\n",
    "import configparser\n",
    "\n",
    "os.chdir(\"C:\\\\Users\\\\amane\\\\OneDrive\\\\python\\\\proto2020\")\n",
    "\n",
    "value_1 = 1\n",
    "value_2 = 2\n",
    "\n",
    "class Config():\n",
    "    def __init__(self):\n",
    "        self.value_1 = value_1\n",
    "        self.value_2 = value_2\n",
    "        self.cfg = configparser.ConfigParser()\n",
    "\n",
    "\n",
    "    def set_ini(self):\n",
    "        x = self.cfg\n",
    "        x[\"General\"] = {\n",
    "            \"value_1\" :self.value_1,\n",
    "            \"value_2\" :self.value_2\n",
    "        }\n",
    "        with open(\"./config.ini\",\"w\") as cfgfile:\n",
    "            x.write(cfgfile)\n",
    "            print (\"saved.\")\n",
    "\n",
    "    def get_ini(self):\n",
    "        x = self.cfg\n",
    "        x.read(\"./config.ini\")\n",
    "        print(\"loaded.\")\n",
    "        self.value_1 = x.getint(\"General\",\"value_1\")\n",
    "        self.value_2 = x.getint(\"GEneral\",\"value_2\")\n",
    "\n",
    "        return value_1,value_2\n",
    "    \n",
    "class Change_var():\n",
    "    def __init__(self):\n",
    "        self.value_2 = value_2\n",
    "        self.cfg = configparser.ConfigParser()\n",
    "\n",
    "    def change_var(self):\n",
    "        x = self.cfg\n",
    "        x.read(\"./config.ini\")\n",
    "        print (\"loaded.\")\n",
    "        x[\"General\"][\"value_2\"] = str(self.value_2)\n",
    "        with open(\"./config.ini\",\"w\") as cfgfile:\n",
    "            x.write(cfgfile)\n",
    "        print (\"changed.\")\n"
   ]
  },
  {
   "source": [
    "iniファイルを生成する"
   ],
   "cell_type": "markdown",
   "metadata": {}
  },
  {
   "cell_type": "code",
   "execution_count": 24,
   "metadata": {},
   "outputs": [
    {
     "output_type": "stream",
     "name": "stdout",
     "text": [
      "saved.\n"
     ]
    }
   ],
   "source": [
    "config = Config()\n",
    "config.set_ini()"
   ]
  },
  {
   "source": [
    "```\n",
    "[General]\n",
    "value_1 = 1\n",
    "value_2 = 2\n",
    "```"
   ],
   "cell_type": "markdown",
   "metadata": {}
  },
  {
   "source": [
    "`value_2`の内容を書き換える"
   ],
   "cell_type": "markdown",
   "metadata": {}
  },
  {
   "cell_type": "code",
   "execution_count": 25,
   "metadata": {},
   "outputs": [],
   "source": [
    "value_2 = 3"
   ]
  },
  {
   "source": [
    "iniファイルを呼び出して、変更したいキーの値だけを再定義してセーブする"
   ],
   "cell_type": "markdown",
   "metadata": {}
  },
  {
   "cell_type": "code",
   "execution_count": 26,
   "metadata": {},
   "outputs": [
    {
     "output_type": "stream",
     "name": "stdout",
     "text": [
      "loaded.\nchanged.\n"
     ]
    }
   ],
   "source": [
    "del config\n",
    "config = Change_var()\n",
    "config.change_var()\n"
   ]
  },
  {
   "source": [
    "```\n",
    "[General]\n",
    "value_1 = 1\n",
    "value_2 = 3\n",
    "```"
   ],
   "cell_type": "markdown",
   "metadata": {}
  },
  {
   "source": [
    "## わかったこと\n",
    "- `configparser,ConfigParser`オブジェクトを読み込み後、書き換えたいキーの値だけを定義してからオブジェクトを上書きすると、書き換えた部位のみ変更有れたiniファイルが保存される\n",
    "- 書き換える場合、`str`型に変更しないといけない(`configparser`は値をすべて`str`で保持するため)\n",
    "\n",
    "## 次にやること\n",
    "`proto2020_093.py`への実装。これでiniファイルの内容を柔軟に書き換えられる"
   ],
   "cell_type": "markdown",
   "metadata": {}
  },
  {
   "cell_type": "code",
   "execution_count": null,
   "metadata": {},
   "outputs": [],
   "source": []
  }
 ]
}