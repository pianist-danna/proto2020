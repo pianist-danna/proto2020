{
 "cells": [
  {
   "cell_type": "markdown",
   "metadata": {},
   "source": [
    "## やりたいこと\n",
    "`configpaser.Configpaser`の実装テスト\n",
    "- iniファイルの生成\n",
    "- iniファイルからの変数の読み出し"
   ]
  },
  {
   "cell_type": "code",
   "execution_count": 1,
   "metadata": {},
   "outputs": [],
   "source": [
    "# cording = UTF-8\n",
    "import os\n",
    "import configparser\n",
    "\n",
    "####################################初期化####################################\n",
    "aug_amount = 512    #ファイルごとのAugmentationの回数 2の階乗値\n",
    "aug_length = 5      #Augmentation後のデータ長(秒) 音声データより長いこと\n",
    "wav_sr = 22050      #音声ファイルのサンプリングレート 44100か22050\n",
    "\n",
    "lr = 2e-02          #AE初期学習率\n",
    "alpha = 0           #AEL2正則化の係数\n",
    "dr_rate = 0.2         #AEドロップアウト率\n",
    "batch_size = 256    #オフライン学習時のバッチサイズ\n",
    "epochs = 100        #学習時のエポック数(グリッドサーチ時は無効)\n",
    "encode_dim = 2048   #AE圧縮次元数\n",
    "hidden_act = 'elu'  #AE隠れ層の活性化関数\n",
    "out_act = 'linear'  #AE出力層の活性化関数\n",
    "\n",
    "exp_ver = 0.999     #PCA圧縮率(保持する分散の割合)\n",
    "\n",
    "monitor = \"val_loss\"    #学習率減衰/早期打ち切りの指標\n",
    "\n",
    "#ディレクトリの初期化\n",
    "base_dir = \"../\"\n",
    "data_dir =os.path.join(base_dir,\"data\")\n",
    "ok_dir = os.path.join(base_dir,\"data/OK\")\n",
    "ng_dir = os.path.join(base_dir,\"data/NG\")\n",
    "env_dir = os.path.join(base_dir,\"data/Environment\")\n",
    "env_file = \"masuho_env.wav\"\n",
    "log_dir = \"./logs\"       #Tensorboardログの保存パス\n",
    "modeldir = \"./models\"   #学習済みモデルの保存パス\n",
    "\n",
    "#学習用データファイル\n",
    "dataset_file = \"dataset2020.npz\"\n",
    "\n",
    "###########################################################################\n"
   ]
  },
  {
   "cell_type": "markdown",
   "metadata": {},
   "source": [
    "カレントディレクトリを確認しておく"
   ]
  },
  {
   "cell_type": "code",
   "execution_count": 2,
   "metadata": {},
   "outputs": [
    {
     "data": {
      "text/plain": [
       "'c:\\\\Users\\\\amane\\\\OneDrive\\\\python\\\\proto2020'"
      ]
     },
     "execution_count": 2,
     "metadata": {},
     "output_type": "execute_result"
    }
   ],
   "source": [
    "os.getcwd()"
   ]
  },
  {
   "cell_type": "markdown",
   "metadata": {},
   "source": [
    "iniファイルを生成する  \n",
    "`configpaser.Configpaser()`をインスタンス化したのち、セクション名で辞書を作成する"
   ]
  },
  {
   "cell_type": "code",
   "execution_count": 3,
   "metadata": {},
   "outputs": [],
   "source": [
    "cfg = configparser.ConfigParser()"
   ]
  },
  {
   "cell_type": "code",
   "execution_count": 5,
   "metadata": {},
   "outputs": [],
   "source": [
    "cfg[\"General\"] = {\n",
    "    \"base_dir\" : base_dir,\n",
    "    \"data_dir\" : data_dir,\n",
    "    \"dataset_file\" : dataset_file,\n",
    "    \"ok_dir\" : ok_dir,\n",
    "    \"ng_dir\" : ng_dir,\n",
    "    \"env_dir\" : env_dir,\n",
    "    \"env_file\" : env_file,\n",
    "    \"log_dir\" : log_dir,\n",
    "    \"model_dir\" :modeldir \n",
    "}\n",
    "\n",
    "cfg[\"Augmentation\"] = {\n",
    "    \"aug_amount\" : aug_amount,\n",
    "    \"aug_length\" : aug_length,\n",
    "    \"wav_sr\" : wav_sr,\n",
    "}\n",
    "\n",
    "cfg[\"model\"] = {\n",
    "    \"batch_size\" : batch_size\n",
    "}\n",
    "\n",
    "cfg[\"AE\"] = {\n",
    "    \"lr\" : lr,\n",
    "    \"alpha\" : alpha,\n",
    "    \"dr_rate\" : dr_rate,\n",
    "    \"epochs\" : epochs,\n",
    "    \"encode_dim\" : encode_dim,\n",
    "    \"hidden_act\" : hidden_act,\n",
    "    \"out_act\" : out_act,\n",
    "    \"monitor\" : monitor\n",
    "}\n",
    "\n",
    "cfg[\"Psd_AE\"] = {\n",
    "    \"exp_ver\" : exp_ver\n",
    "}"
   ]
  },
  {
   "cell_type": "code",
   "execution_count": 6,
   "metadata": {},
   "outputs": [
    {
     "data": {
      "text/plain": [
       "ItemsView(<configparser.ConfigParser object at 0x0000023E6E726E88>)"
      ]
     },
     "execution_count": 6,
     "metadata": {},
     "output_type": "execute_result"
    }
   ],
   "source": [
    "cfg.items()"
   ]
  },
  {
   "cell_type": "code",
   "execution_count": 8,
   "metadata": {},
   "outputs": [
    {
     "data": {
      "text/plain": [
       "[('base_dir', '../'),\n",
       " ('data_dir', '../data'),\n",
       " ('dataset_file', 'dataset2020.npz'),\n",
       " ('ok_dir', '../data/OK'),\n",
       " ('ng_dir', '../data/NG'),\n",
       " ('env_dir', '../data/Environment'),\n",
       " ('env_file', 'masuho_env.wav'),\n",
       " ('log_dir', './logs'),\n",
       " ('model_dir', './models')]"
      ]
     },
     "execution_count": 8,
     "metadata": {},
     "output_type": "execute_result"
    }
   ],
   "source": [
    "cfg.items(\"General\")"
   ]
  },
  {
   "cell_type": "markdown",
   "metadata": {},
   "source": [
    "iniファイルの保存。`With`句で`Open`を呼び出して保存する"
   ]
  },
  {
   "cell_type": "code",
   "execution_count": 9,
   "metadata": {},
   "outputs": [],
   "source": [
    "with open('AE.ini', 'w') as configfile:\n",
    "    cfg.write(configfile)"
   ]
  },
  {
   "cell_type": "code",
   "execution_count": 10,
   "metadata": {},
   "outputs": [],
   "source": [
    "#いったん全部消す\n",
    "del alpha,aug_amount,aug_length,base_dir,batch_size,cfg,configfile,data_dir,dataset_file,dr_rate,encode_dim,env_dir,env_file,epochs,exp_ver,hidden_act,lr,modeldir,monitor,ng_dir,ok_dir,out_act,wav_sr"
   ]
  },
  {
   "cell_type": "code",
   "execution_count": 11,
   "metadata": {},
   "outputs": [],
   "source": [
    "del log_dir"
   ]
  },
  {
   "cell_type": "code",
   "execution_count": 13,
   "metadata": {},
   "outputs": [
    {
     "data": {
      "text/plain": [
       "['./AE.ini']"
      ]
     },
     "execution_count": 13,
     "metadata": {},
     "output_type": "execute_result"
    }
   ],
   "source": [
    "#iniファイルを読み込む\n",
    "cfg = configparser.ConfigParser()\n",
    "cfg.read(\"./AE.ini\")"
   ]
  },
  {
   "cell_type": "code",
   "execution_count": 14,
   "metadata": {},
   "outputs": [
    {
     "data": {
      "text/plain": [
       "[('base_dir', '../'),\n",
       " ('data_dir', '../data'),\n",
       " ('dataset_file', 'dataset2020.npz'),\n",
       " ('ok_dir', '../data/OK'),\n",
       " ('ng_dir', '../data/NG'),\n",
       " ('env_dir', '../data/Environment'),\n",
       " ('env_file', 'masuho_env.wav'),\n",
       " ('log_dir', './logs'),\n",
       " ('model_dir', './models')]"
      ]
     },
     "execution_count": 14,
     "metadata": {},
     "output_type": "execute_result"
    }
   ],
   "source": [
    "cfg.items(\"General\")"
   ]
  },
  {
   "cell_type": "markdown",
   "metadata": {},
   "source": [
    "読みだせている"
   ]
  },
  {
   "cell_type": "code",
   "execution_count": 16,
   "metadata": {},
   "outputs": [],
   "source": [
    "#ほしい変数だけ読みだしてみる\n",
    "base_dir = cfg.get(\"General\",\"base_dir\")"
   ]
  },
  {
   "cell_type": "code",
   "execution_count": 17,
   "metadata": {},
   "outputs": [
    {
     "data": {
      "text/plain": [
       "'../'"
      ]
     },
     "execution_count": 17,
     "metadata": {},
     "output_type": "execute_result"
    }
   ],
   "source": [
    "base_dir"
   ]
  },
  {
   "cell_type": "markdown",
   "metadata": {},
   "source": [
    "## わかったこと\n",
    "- `configpaser.Configpaser.get()`を使えば任意の位置で必要な変数を読み出せる\n",
    "- `getint()`や`getflort()`で任意のデータ型で読み出せる(デフォルトはstr)\n",
    "- `configpaser.Configpaser.set()`を使えば新しいキーの定義や既存キーの書き換えができる\n",
    "- `config@aser.COnfigpaser.read()`でiniファイルはすべて読まれているので、`set()`の後は単純に上書きすればいい\n",
    "\n",
    "## 次にやること\n",
    "AE.pyへの実装。ど頭でiniファイルを読み込んで、必要に応じて変数を読みだす。\n",
    "iniへの書き込みをクラス化しておけば、任意のタイミングで呼び出し可能(なはず)\n",
    "\n",
    "## 参考\n",
    "[configpaserの公式ドキュメント](url:https://docs.python.org/ja/3/library/configparser.html)"
   ]
  },
  {
   "cell_type": "code",
   "execution_count": null,
   "metadata": {},
   "outputs": [],
   "source": []
  }
 ],
 "metadata": {
  "kernelspec": {
   "display_name": "Python 3",
   "language": "python",
   "name": "python3"
  },
  "language_info": {
   "codemirror_mode": {
    "name": "ipython",
    "version": 3
   },
   "file_extension": ".py",
   "mimetype": "text/x-python",
   "name": "python",
   "nbconvert_exporter": "python",
   "pygments_lexer": "ipython3",
   "version": "3.7.7"
  }
 },
 "nbformat": 4,
 "nbformat_minor": 2
}
