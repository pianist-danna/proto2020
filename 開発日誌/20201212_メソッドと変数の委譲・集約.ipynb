{
 "metadata": {
  "language_info": {
   "codemirror_mode": {
    "name": "ipython",
    "version": 3
   },
   "file_extension": ".py",
   "mimetype": "text/x-python",
   "name": "python",
   "nbconvert_exporter": "python",
   "pygments_lexer": "ipython3",
   "version": "3.7.9-final"
  },
  "orig_nbformat": 2,
  "kernelspec": {
   "name": "python3",
   "display_name": "Python 3",
   "language": "python"
  }
 },
 "nbformat": 4,
 "nbformat_minor": 2,
 "cells": [
  {
   "source": [
    "## やりたいこと\n",
    "「継承より集約、委譲」らしいので、委譲の動作を確認する"
   ],
   "cell_type": "markdown",
   "metadata": {}
  },
  {
   "source": [
    "---\n",
    "まずは前回の継承コード"
   ],
   "cell_type": "markdown",
   "metadata": {}
  },
  {
   "cell_type": "code",
   "execution_count": 1,
   "metadata": {},
   "outputs": [
    {
     "output_type": "stream",
     "name": "stdout",
     "text": [
      "value_1 = 1\nvalue_2 = 2\nvalue_3 = 3\n"
     ]
    }
   ],
   "source": [
    "value_1 = 1\n",
    "value_2 = 2\n",
    "\n",
    "class Class_1:\n",
    "    value_1 = value_1   #継承可能なクラス変数\n",
    "\n",
    "    def method_1(self):\n",
    "        print(\"value_1 =\",self.value_1)\n",
    "\n",
    "class Class_2(Class_1):\n",
    "    def __init__(self):\n",
    "        self.value_2 = value_2  #Class2の中でのみ使うインスタンス変数\n",
    "\n",
    "    def method_2(self):\n",
    "        print(\"value_2 =\",self.value_2)\n",
    "\n",
    "    def method_3(self):\n",
    "        print(\"value_3 =\",Class_1.value_1 + self.value_2)   #value_1はClass_1のクラス変数、value_2はClass_2のインスタンス変数\n",
    "\n",
    "cl = Class_2()\n",
    "cl.method_1()\n",
    "cl.method_2()\n",
    "cl.method_3()"
   ]
  },
  {
   "source": [
    "`Classe_2`は`Classe_1`の子クラスとなり、`Class_1`の名前空間を引き継いでいる  \n",
    "やろうと思えば`Class_1`の変数を`Class_2`から書き換えることもできるためあまり望ましくない(らしい)"
   ],
   "cell_type": "markdown",
   "metadata": {}
  },
  {
   "source": [
    "---\n",
    "集約と委譲の概念で上のコードを書き換えてみる"
   ],
   "cell_type": "markdown",
   "metadata": {}
  },
  {
   "cell_type": "code",
   "execution_count": 15,
   "metadata": {},
   "outputs": [
    {
     "output_type": "stream",
     "name": "stdout",
     "text": [
      "value_1 = 1\nvalue_2 = 2\nvalue_3 = 3\n"
     ]
    }
   ],
   "source": [
    "class Class_1:\n",
    "    def __init__(self):\n",
    "        self.value_1 = value_1\n",
    "\n",
    "    def method_1(self):\n",
    "        print(\"value_1 =\",self.value_1)\n",
    "\n",
    "class Class_2:\n",
    "    def __init__(self):\n",
    "        self.class_1 = Class_1()\n",
    "        self.value_2 = value_2\n",
    "\n",
    "    def method_1(self):\n",
    "        self.class_1.method_1()\n",
    "\n",
    "    def method_2(self):\n",
    "        print(\"value_2 =\" ,self.value_2)\n",
    "\n",
    "    def method_3(self):\n",
    "        print(\"value_3 =\", self.class_1.value_1 + self.value_2) \n",
    "\n",
    "cl = Class_2()\n",
    "cl.method_1()\n",
    "cl.method_2()\n",
    "cl.method_3()\n",
    "\n"
   ]
  },
  {
   "source": [
    "ここで行っていること：\n",
    "- `Class2`は`Class1`の子クラス**<font color = \"ff0000\">ではない</font>**\n",
    "- `Class_1`は`value_1`の定義と処理を行っている\n",
    "- インスタンス化したのは`Class_2`のみ `Class_2`のコンストラクタの中で、`Class_1`のインスタンス化を行っている\n",
    "- メソッド名が同じなのでややこしいが、メインルーチンで呼んだのは`Class_2`の`method_1`メソッド  \n",
    "(`Class_1`のメソッドを直接呼び出すことはできず、「`Class_1`のメソッドを呼び出すメソッド」が必要)\n",
    "- `Class_2.method_1`は、`Class_1.method_1`に処理を**<font color = \"#ff0000\">委譲</font>**している\n",
    "- `Class_2.method_3()`において、`Class_1`のインスタンス変数`value_1`を使用して処理している   \n",
    "(`Class_2`に`value_1`の変数宣言はない)\n",
    "\n",
    "もちろんこのコードでも`Class_1.value_1`を書き換えることは(おそらく)できるが、やる理由がない  \n",
    "(独自の変数が欲しいなら`Class_2`の中で改めて定義すればよい)  \n",
    "重要なのは`Class_2`の中で呼び出した`value_1`が、あくまでも`Class_1`の名前空間に属していることが明示されていること"
   ],
   "cell_type": "markdown",
   "metadata": {}
  },
  {
   "source": [
    "---\n",
    "## わかったこと\n",
    "- 別のクラスのメソッドを流用したいときは、コンストラクタで目的のクラスをインスタンス化する\n",
    "- インスタンス化することによって、継承では利用不能な「元クラスのインスタンス変数」を使用できる\n",
    "- 「別のクラスのメソッドを使う」メソッドを明示的に定義すれば、別クラスメソッドを使用できる\n",
    "\n",
    "コードの絶対量は確かに増えるが、こちらのほうがどこの変数・メソッドを利用しているか明確になる"
   ],
   "cell_type": "markdown",
   "metadata": {}
  },
  {
   "cell_type": "code",
   "execution_count": null,
   "metadata": {},
   "outputs": [],
   "source": []
  }
 ]
}